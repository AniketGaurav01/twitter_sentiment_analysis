{
  "cells": [
    {
      "cell_type": "code",
      "execution_count": 22,
      "id": "2f0a6303",
      "metadata": {
        "_cell_guid": "b1076dfc-b9ad-4769-8c92-a6c4dae69d19",
        "_uuid": "8f2839f25d086af736a60e9eeb907d3b93b6e0e5",
        "execution": {
          "iopub.execute_input": "2024-06-27T08:17:44.878099Z",
          "iopub.status.busy": "2024-06-27T08:17:44.877666Z",
          "iopub.status.idle": "2024-06-27T08:17:45.966505Z",
          "shell.execute_reply": "2024-06-27T08:17:45.964973Z"
        },
        "papermill": {
          "duration": 1.099263,
          "end_time": "2024-06-27T08:17:45.969710",
          "exception": false,
          "start_time": "2024-06-27T08:17:44.870447",
          "status": "completed"
        },
        "tags": [],
        "id": "2f0a6303"
      },
      "outputs": [],
      "source": [
        "# This Python 3 environment comes with many helpful analytics libraries installed\n",
        "# It is defined by the kaggle/python Docker image: https://github.com/kaggle/docker-python\n",
        "# For example, here's several helpful packages to load\n",
        "\n",
        "import numpy as np # linear algebra\n",
        "import pandas as pd # data processing, CSV file I/O (e.g. pd.read_csv)\n",
        "\n",
        "# Input data files are available in the read-only \"../input/\" directory\n",
        "# For example, running this (by clicking run or pressing Shift+Enter) will list all files under the input directory\n",
        "\n",
        "import os\n",
        "for dirname, _, filenames in os.walk('/kaggle/input'):\n",
        "    for filename in filenames:\n",
        "        print(os.path.join(dirname, filename))\n",
        "\n",
        "# You can write up to 20GB to the current directory (/kaggle/working/) that gets preserved as output when you create a version using \"Save & Run All\"\n",
        "# You can also write temporary files to /kaggle/temp/, but they won't be saved outside of the current session"
      ]
    },
    {
      "cell_type": "code",
      "execution_count": 23,
      "id": "aa8eca3e",
      "metadata": {
        "execution": {
          "iopub.execute_input": "2024-06-27T08:17:45.982505Z",
          "iopub.status.busy": "2024-06-27T08:17:45.981483Z",
          "iopub.status.idle": "2024-06-27T08:17:46.394475Z",
          "shell.execute_reply": "2024-06-27T08:17:46.393173Z"
        },
        "papermill": {
          "duration": 0.422207,
          "end_time": "2024-06-27T08:17:46.397339",
          "exception": false,
          "start_time": "2024-06-27T08:17:45.975132",
          "status": "completed"
        },
        "tags": [],
        "id": "aa8eca3e"
      },
      "outputs": [],
      "source": [
        "column_names = [ 'id', 'topic', 'sentiment', 'text']\n",
        "data = pd.read_csv('/content/twitter_training.csv',names = column_names)\n",
        "data.drop('id',axis = 1,inplace=True)"
      ]
    },
    {
      "cell_type": "code",
      "execution_count": 24,
      "id": "6cf82912",
      "metadata": {
        "execution": {
          "iopub.execute_input": "2024-06-27T08:17:46.409175Z",
          "iopub.status.busy": "2024-06-27T08:17:46.408746Z",
          "iopub.status.idle": "2024-06-27T08:17:46.430146Z",
          "shell.execute_reply": "2024-06-27T08:17:46.428957Z"
        },
        "papermill": {
          "duration": 0.030293,
          "end_time": "2024-06-27T08:17:46.432710",
          "exception": false,
          "start_time": "2024-06-27T08:17:46.402417",
          "status": "completed"
        },
        "tags": [],
        "colab": {
          "base_uri": "https://localhost:8080/"
        },
        "id": "6cf82912",
        "outputId": "27485e34-8d75-4652-c02a-1ff8fb39dd24"
      },
      "outputs": [
        {
          "output_type": "execute_result",
          "data": {
            "text/plain": [
              "sentiment\n",
              "Negative      22542\n",
              "Positive      20832\n",
              "Neutral       18318\n",
              "Irrelevant    12990\n",
              "Name: count, dtype: int64"
            ]
          },
          "metadata": {},
          "execution_count": 24
        }
      ],
      "source": [
        "data.sentiment.value_counts()"
      ]
    },
    {
      "cell_type": "code",
      "execution_count": 25,
      "id": "4a5a4f7d",
      "metadata": {
        "execution": {
          "iopub.execute_input": "2024-06-27T08:17:46.445040Z",
          "iopub.status.busy": "2024-06-27T08:17:46.444649Z",
          "iopub.status.idle": "2024-06-27T08:17:46.477139Z",
          "shell.execute_reply": "2024-06-27T08:17:46.475891Z"
        },
        "papermill": {
          "duration": 0.042253,
          "end_time": "2024-06-27T08:17:46.480201",
          "exception": false,
          "start_time": "2024-06-27T08:17:46.437948",
          "status": "completed"
        },
        "tags": [],
        "id": "4a5a4f7d"
      },
      "outputs": [],
      "source": [
        "#remove the null values\n",
        "data.dropna(inplace=True)"
      ]
    },
    {
      "cell_type": "code",
      "execution_count": 26,
      "id": "9b383ea1",
      "metadata": {
        "execution": {
          "iopub.execute_input": "2024-06-27T08:17:46.492782Z",
          "iopub.status.busy": "2024-06-27T08:17:46.491787Z",
          "iopub.status.idle": "2024-06-27T08:17:48.853367Z",
          "shell.execute_reply": "2024-06-27T08:17:48.852111Z"
        },
        "papermill": {
          "duration": 2.37077,
          "end_time": "2024-06-27T08:17:48.856124",
          "exception": false,
          "start_time": "2024-06-27T08:17:46.485354",
          "status": "completed"
        },
        "tags": [],
        "colab": {
          "base_uri": "https://localhost:8080/"
        },
        "id": "9b383ea1",
        "outputId": "591b21d5-36a1-472f-ad42-ca2b11d847a9"
      },
      "outputs": [
        {
          "output_type": "stream",
          "name": "stderr",
          "text": [
            "[nltk_data] Downloading package stopwords to /root/nltk_data...\n",
            "[nltk_data]   Package stopwords is already up-to-date!\n"
          ]
        },
        {
          "output_type": "execute_result",
          "data": {
            "text/plain": [
              "True"
            ]
          },
          "metadata": {},
          "execution_count": 26
        }
      ],
      "source": [
        "#Data Preprocessing\n",
        "import re\n",
        "from nltk.corpus import stopwords\n",
        "from nltk.stem import PorterStemmer\n",
        "import nltk\n",
        "nltk.download('stopwords')"
      ]
    },
    {
      "cell_type": "code",
      "execution_count": 27,
      "id": "f73ed39c",
      "metadata": {
        "execution": {
          "iopub.execute_input": "2024-06-27T08:17:48.868417Z",
          "iopub.status.busy": "2024-06-27T08:17:48.867869Z",
          "iopub.status.idle": "2024-06-27T08:17:48.884443Z",
          "shell.execute_reply": "2024-06-27T08:17:48.883169Z"
        },
        "papermill": {
          "duration": 0.02602,
          "end_time": "2024-06-27T08:17:48.887303",
          "exception": false,
          "start_time": "2024-06-27T08:17:48.861283",
          "status": "completed"
        },
        "tags": [],
        "id": "f73ed39c"
      },
      "outputs": [],
      "source": [
        "stemmer = PorterStemmer()\n",
        "stop_words = set(stopwords.words('english'))\n",
        "\n",
        "#Function to preprocess text\n",
        "def preprocess_text(text):\n",
        "    #removing the punctuation, numbers and special characters\n",
        "    text = re.sub(r'[^a-zA-Z\\s]', '',text,re.I|re.A)\n",
        "\n",
        "    #Convert to lowercase\n",
        "    text = text.lower()\n",
        "    #Tokenize the text\n",
        "    tokens = text.split()\n",
        "\n",
        "    #Remove the stop words do stemming\n",
        "    tokens =  [stemmer.stem(word) for word in tokens if word not in stop_words]\n",
        "    return  ' '.join(tokens)"
      ]
    },
    {
      "cell_type": "code",
      "execution_count": 17,
      "id": "282f98da",
      "metadata": {
        "execution": {
          "iopub.execute_input": "2024-06-27T08:17:48.899217Z",
          "iopub.status.busy": "2024-06-27T08:17:48.898776Z",
          "iopub.status.idle": "2024-06-27T08:18:11.046394Z",
          "shell.execute_reply": "2024-06-27T08:18:11.044545Z"
        },
        "papermill": {
          "duration": 22.156958,
          "end_time": "2024-06-27T08:18:11.049361",
          "exception": false,
          "start_time": "2024-06-27T08:17:48.892403",
          "status": "completed"
        },
        "tags": [],
        "colab": {
          "base_uri": "https://localhost:8080/"
        },
        "id": "282f98da",
        "outputId": "568eb45e-c63e-4fc6-c17d-22b108cba64b"
      },
      "outputs": [
        {
          "output_type": "stream",
          "name": "stdout",
          "text": [
            "                                                text  \\\n",
            "0  im getting on borderlands and i will murder yo...   \n",
            "1  I am coming to the borders and I will kill you...   \n",
            "2  im getting on borderlands and i will kill you ...   \n",
            "3  im coming on borderlands and i will murder you...   \n",
            "4  im getting on borderlands 2 and i will murder ...   \n",
            "\n",
            "           preprocessed_text  \n",
            "0   im get borderland murder  \n",
            "1           come border kill  \n",
            "2     im get borderland kill  \n",
            "3  im come borderland murder  \n",
            "4   im get borderland murder  \n"
          ]
        }
      ],
      "source": [
        "data['preprocessed_text']=data['text'].apply(preprocess_text)\n",
        "print(data[['text','preprocessed_text']].head())"
      ]
    },
    {
      "cell_type": "code",
      "execution_count": 18,
      "id": "b83c8936",
      "metadata": {
        "execution": {
          "iopub.execute_input": "2024-06-27T08:18:11.061286Z",
          "iopub.status.busy": "2024-06-27T08:18:11.060907Z",
          "iopub.status.idle": "2024-06-27T08:18:12.069216Z",
          "shell.execute_reply": "2024-06-27T08:18:12.067652Z"
        },
        "papermill": {
          "duration": 1.016973,
          "end_time": "2024-06-27T08:18:12.071557",
          "exception": false,
          "start_time": "2024-06-27T08:18:11.054584",
          "status": "completed"
        },
        "tags": [],
        "colab": {
          "base_uri": "https://localhost:8080/"
        },
        "id": "b83c8936",
        "outputId": "f9a41793-5d0f-46b8-fd73-6a2241cad31b"
      },
      "outputs": [
        {
          "output_type": "stream",
          "name": "stdout",
          "text": [
            "(53335, 5000) (53335,)\n"
          ]
        }
      ],
      "source": [
        "#feature extraction\n",
        "from sklearn.feature_extraction.text import TfidfVectorizer\n",
        "\n",
        "#Initialize the TF-IDF vectorizer\n",
        "vectorizer = TfidfVectorizer(max_features = 5000)\n",
        "X = vectorizer.fit_transform(data['preprocessed_text'])\n",
        "y = data['sentiment']\n",
        "print(X.shape,y.shape)"
      ]
    },
    {
      "cell_type": "markdown",
      "id": "3b8dd65b",
      "metadata": {
        "papermill": {
          "duration": 0.004794,
          "end_time": "2024-06-27T08:18:12.081601",
          "exception": false,
          "start_time": "2024-06-27T08:18:12.076807",
          "status": "completed"
        },
        "tags": [],
        "id": "3b8dd65b"
      },
      "source": [
        "Data Validation Decision Tree Model"
      ]
    },
    {
      "cell_type": "code",
      "execution_count": 19,
      "id": "70e25a50",
      "metadata": {
        "execution": {
          "iopub.execute_input": "2024-06-27T08:18:12.093533Z",
          "iopub.status.busy": "2024-06-27T08:18:12.093113Z",
          "iopub.status.idle": "2024-06-27T08:18:12.115370Z",
          "shell.execute_reply": "2024-06-27T08:18:12.114204Z"
        },
        "papermill": {
          "duration": 0.031595,
          "end_time": "2024-06-27T08:18:12.118244",
          "exception": false,
          "start_time": "2024-06-27T08:18:12.086649",
          "status": "completed"
        },
        "tags": [],
        "id": "70e25a50"
      },
      "outputs": [],
      "source": [
        "from sklearn.model_selection import train_test_split\n",
        "\n",
        "X_train,X_test,y_train,y_test = train_test_split(X,y,test_size = 0.3)"
      ]
    },
    {
      "cell_type": "code",
      "execution_count": 20,
      "id": "95bcbbf6",
      "metadata": {
        "execution": {
          "iopub.execute_input": "2024-06-27T08:18:12.130762Z",
          "iopub.status.busy": "2024-06-27T08:18:12.130331Z",
          "iopub.status.idle": "2024-06-27T08:18:25.262099Z",
          "shell.execute_reply": "2024-06-27T08:18:25.260784Z"
        },
        "papermill": {
          "duration": 13.141027,
          "end_time": "2024-06-27T08:18:25.264942",
          "exception": false,
          "start_time": "2024-06-27T08:18:12.123915",
          "status": "completed"
        },
        "tags": [],
        "colab": {
          "base_uri": "https://localhost:8080/",
          "height": 74
        },
        "id": "95bcbbf6",
        "outputId": "8549f72c-43fe-4c70-d218-803b3daf5488"
      },
      "outputs": [
        {
          "output_type": "execute_result",
          "data": {
            "text/plain": [
              "DecisionTreeClassifier(splitter='random')"
            ],
            "text/html": [
              "<style>#sk-container-id-1 {color: black;background-color: white;}#sk-container-id-1 pre{padding: 0;}#sk-container-id-1 div.sk-toggleable {background-color: white;}#sk-container-id-1 label.sk-toggleable__label {cursor: pointer;display: block;width: 100%;margin-bottom: 0;padding: 0.3em;box-sizing: border-box;text-align: center;}#sk-container-id-1 label.sk-toggleable__label-arrow:before {content: \"▸\";float: left;margin-right: 0.25em;color: #696969;}#sk-container-id-1 label.sk-toggleable__label-arrow:hover:before {color: black;}#sk-container-id-1 div.sk-estimator:hover label.sk-toggleable__label-arrow:before {color: black;}#sk-container-id-1 div.sk-toggleable__content {max-height: 0;max-width: 0;overflow: hidden;text-align: left;background-color: #f0f8ff;}#sk-container-id-1 div.sk-toggleable__content pre {margin: 0.2em;color: black;border-radius: 0.25em;background-color: #f0f8ff;}#sk-container-id-1 input.sk-toggleable__control:checked~div.sk-toggleable__content {max-height: 200px;max-width: 100%;overflow: auto;}#sk-container-id-1 input.sk-toggleable__control:checked~label.sk-toggleable__label-arrow:before {content: \"▾\";}#sk-container-id-1 div.sk-estimator input.sk-toggleable__control:checked~label.sk-toggleable__label {background-color: #d4ebff;}#sk-container-id-1 div.sk-label input.sk-toggleable__control:checked~label.sk-toggleable__label {background-color: #d4ebff;}#sk-container-id-1 input.sk-hidden--visually {border: 0;clip: rect(1px 1px 1px 1px);clip: rect(1px, 1px, 1px, 1px);height: 1px;margin: -1px;overflow: hidden;padding: 0;position: absolute;width: 1px;}#sk-container-id-1 div.sk-estimator {font-family: monospace;background-color: #f0f8ff;border: 1px dotted black;border-radius: 0.25em;box-sizing: border-box;margin-bottom: 0.5em;}#sk-container-id-1 div.sk-estimator:hover {background-color: #d4ebff;}#sk-container-id-1 div.sk-parallel-item::after {content: \"\";width: 100%;border-bottom: 1px solid gray;flex-grow: 1;}#sk-container-id-1 div.sk-label:hover label.sk-toggleable__label {background-color: #d4ebff;}#sk-container-id-1 div.sk-serial::before {content: \"\";position: absolute;border-left: 1px solid gray;box-sizing: border-box;top: 0;bottom: 0;left: 50%;z-index: 0;}#sk-container-id-1 div.sk-serial {display: flex;flex-direction: column;align-items: center;background-color: white;padding-right: 0.2em;padding-left: 0.2em;position: relative;}#sk-container-id-1 div.sk-item {position: relative;z-index: 1;}#sk-container-id-1 div.sk-parallel {display: flex;align-items: stretch;justify-content: center;background-color: white;position: relative;}#sk-container-id-1 div.sk-item::before, #sk-container-id-1 div.sk-parallel-item::before {content: \"\";position: absolute;border-left: 1px solid gray;box-sizing: border-box;top: 0;bottom: 0;left: 50%;z-index: -1;}#sk-container-id-1 div.sk-parallel-item {display: flex;flex-direction: column;z-index: 1;position: relative;background-color: white;}#sk-container-id-1 div.sk-parallel-item:first-child::after {align-self: flex-end;width: 50%;}#sk-container-id-1 div.sk-parallel-item:last-child::after {align-self: flex-start;width: 50%;}#sk-container-id-1 div.sk-parallel-item:only-child::after {width: 0;}#sk-container-id-1 div.sk-dashed-wrapped {border: 1px dashed gray;margin: 0 0.4em 0.5em 0.4em;box-sizing: border-box;padding-bottom: 0.4em;background-color: white;}#sk-container-id-1 div.sk-label label {font-family: monospace;font-weight: bold;display: inline-block;line-height: 1.2em;}#sk-container-id-1 div.sk-label-container {text-align: center;}#sk-container-id-1 div.sk-container {/* jupyter's `normalize.less` sets `[hidden] { display: none; }` but bootstrap.min.css set `[hidden] { display: none !important; }` so we also need the `!important` here to be able to override the default hidden behavior on the sphinx rendered scikit-learn.org. See: https://github.com/scikit-learn/scikit-learn/issues/21755 */display: inline-block !important;position: relative;}#sk-container-id-1 div.sk-text-repr-fallback {display: none;}</style><div id=\"sk-container-id-1\" class=\"sk-top-container\"><div class=\"sk-text-repr-fallback\"><pre>DecisionTreeClassifier(splitter=&#x27;random&#x27;)</pre><b>In a Jupyter environment, please rerun this cell to show the HTML representation or trust the notebook. <br />On GitHub, the HTML representation is unable to render, please try loading this page with nbviewer.org.</b></div><div class=\"sk-container\" hidden><div class=\"sk-item\"><div class=\"sk-estimator sk-toggleable\"><input class=\"sk-toggleable__control sk-hidden--visually\" id=\"sk-estimator-id-1\" type=\"checkbox\" checked><label for=\"sk-estimator-id-1\" class=\"sk-toggleable__label sk-toggleable__label-arrow\">DecisionTreeClassifier</label><div class=\"sk-toggleable__content\"><pre>DecisionTreeClassifier(splitter=&#x27;random&#x27;)</pre></div></div></div></div></div>"
            ]
          },
          "metadata": {},
          "execution_count": 20
        }
      ],
      "source": [
        "from sklearn.tree import DecisionTreeClassifier\n",
        "\n",
        "clf = DecisionTreeClassifier(criterion='gini',splitter = \"random\")\n",
        "clf.fit(X_train,y_train)"
      ]
    },
    {
      "cell_type": "code",
      "execution_count": 21,
      "id": "7629ec39",
      "metadata": {
        "execution": {
          "iopub.execute_input": "2024-06-27T08:18:25.278174Z",
          "iopub.status.busy": "2024-06-27T08:18:25.277741Z",
          "iopub.status.idle": "2024-06-27T08:18:25.832481Z",
          "shell.execute_reply": "2024-06-27T08:18:25.831140Z"
        },
        "papermill": {
          "duration": 0.564362,
          "end_time": "2024-06-27T08:18:25.835150",
          "exception": false,
          "start_time": "2024-06-27T08:18:25.270788",
          "status": "completed"
        },
        "tags": [],
        "colab": {
          "base_uri": "https://localhost:8080/",
          "height": 487
        },
        "id": "7629ec39",
        "outputId": "690610df-ccaa-417b-d823-04f03549aa7b"
      },
      "outputs": [
        {
          "output_type": "stream",
          "name": "stdout",
          "text": [
            "0.7955752765452159\n"
          ]
        },
        {
          "output_type": "execute_result",
          "data": {
            "text/plain": [
              "<sklearn.metrics._plot.confusion_matrix.ConfusionMatrixDisplay at 0x7e5a0be0ffa0>"
            ]
          },
          "metadata": {},
          "execution_count": 21
        },
        {
          "output_type": "display_data",
          "data": {
            "text/plain": [
              "<Figure size 640x480 with 2 Axes>"
            ],
            "image/png": "[encoded data removed]"
          },
          "metadata": {}
        }
      ],
      "source": [
        "from sklearn.metrics import accuracy_score,confusion_matrix,ConfusionMatrixDisplay\n",
        "y_pred = clf.predict(X_test)\n",
        "print(accuracy_score(y_test,y_pred))\n",
        "ConfusionMatrixDisplay.from_predictions(y_test,y_pred)"
      ]
    },
    {
      "cell_type": "code",
      "execution_count": 28,
      "id": "2e3a7a71",
      "metadata": {
        "execution": {
          "iopub.execute_input": "2024-06-27T08:18:25.849721Z",
          "iopub.status.busy": "2024-06-27T08:18:25.849326Z",
          "iopub.status.idle": "2024-06-27T08:18:25.855674Z",
          "shell.execute_reply": "2024-06-27T08:18:25.854557Z"
        },
        "papermill": {
          "duration": 0.016721,
          "end_time": "2024-06-27T08:18:25.858304",
          "exception": false,
          "start_time": "2024-06-27T08:18:25.841583",
          "status": "completed"
        },
        "tags": [],
        "id": "2e3a7a71"
      },
      "outputs": [],
      "source": [
        "def predict_sentiment(text):\n",
        "    preprocessed_text = preprocess_text(text)\n",
        "\n",
        "    # Transform the preprocessed text into TF-IDF vectors\n",
        "    X_new = vectorizer.transform([preprocessed_text])\n",
        "\n",
        "    # Make predictions\n",
        "    predicted_sentiment = clf.predict(X_new)\n",
        "\n",
        "    # Print the predicted sentiment\n",
        "    print(\"Predicted sentiment:\", predicted_sentiment)\n"
      ]
    },
    {
      "cell_type": "code",
      "execution_count": 29,
      "id": "325ef485",
      "metadata": {
        "execution": {
          "iopub.execute_input": "2024-06-27T08:18:25.873089Z",
          "iopub.status.busy": "2024-06-27T08:18:25.872670Z",
          "iopub.status.idle": "2024-06-27T08:18:25.882211Z",
          "shell.execute_reply": "2024-06-27T08:18:25.880757Z"
        },
        "papermill": {
          "duration": 0.020006,
          "end_time": "2024-06-27T08:18:25.884587",
          "exception": false,
          "start_time": "2024-06-27T08:18:25.864581",
          "status": "completed"
        },
        "tags": [],
        "colab": {
          "base_uri": "https://localhost:8080/"
        },
        "id": "325ef485",
        "outputId": "eeb571e2-abc9-4c3e-8c27-dc97a1939428"
      },
      "outputs": [
        {
          "output_type": "stream",
          "name": "stdout",
          "text": [
            "Predicted sentiment: ['Positive']\n"
          ]
        }
      ],
      "source": [
        "predict_sentiment(\"I am feeling very happy today\")"
      ]
    },
    {
      "cell_type": "code",
      "execution_count": 30,
      "id": "12086a2e",
      "metadata": {
        "execution": {
          "iopub.execute_input": "2024-06-27T08:18:25.899162Z",
          "iopub.status.busy": "2024-06-27T08:18:25.898716Z",
          "iopub.status.idle": "2024-06-27T08:18:25.907382Z",
          "shell.execute_reply": "2024-06-27T08:18:25.905976Z"
        },
        "papermill": {
          "duration": 0.019087,
          "end_time": "2024-06-27T08:18:25.910095",
          "exception": false,
          "start_time": "2024-06-27T08:18:25.891008",
          "status": "completed"
        },
        "tags": [],
        "colab": {
          "base_uri": "https://localhost:8080/"
        },
        "id": "12086a2e",
        "outputId": "d440dca8-da9b-452b-fc31-4644a43e307c"
      },
      "outputs": [
        {
          "output_type": "stream",
          "name": "stdout",
          "text": [
            "Predicted sentiment: ['Positive']\n"
          ]
        }
      ],
      "source": [
        "predict_sentiment(\"Its beyond me\")"
      ]
    },
    {
      "cell_type": "code",
      "execution_count": 31,
      "id": "6b083239",
      "metadata": {
        "execution": {
          "iopub.execute_input": "2024-06-27T08:18:25.924778Z",
          "iopub.status.busy": "2024-06-27T08:18:25.924377Z",
          "iopub.status.idle": "2024-06-27T08:18:25.933221Z",
          "shell.execute_reply": "2024-06-27T08:18:25.931566Z"
        },
        "papermill": {
          "duration": 0.01901,
          "end_time": "2024-06-27T08:18:25.935670",
          "exception": false,
          "start_time": "2024-06-27T08:18:25.916660",
          "status": "completed"
        },
        "tags": [],
        "colab": {
          "base_uri": "https://localhost:8080/"
        },
        "id": "6b083239",
        "outputId": "fa0a2dca-d9c6-486a-8d98-f4401f0bc063"
      },
      "outputs": [
        {
          "output_type": "stream",
          "name": "stdout",
          "text": [
            "Predicted sentiment: ['Irrelevant']\n"
          ]
        }
      ],
      "source": [
        "predict_sentiment(\"Die you son of something\")"
      ]
    },
    {
      "cell_type": "code",
      "execution_count": 32,
      "id": "316c097e",
      "metadata": {
        "execution": {
          "iopub.execute_input": "2024-06-27T08:18:25.950532Z",
          "iopub.status.busy": "2024-06-27T08:18:25.950120Z",
          "iopub.status.idle": "2024-06-27T08:18:25.958495Z",
          "shell.execute_reply": "2024-06-27T08:18:25.957395Z"
        },
        "papermill": {
          "duration": 0.018567,
          "end_time": "2024-06-27T08:18:25.960878",
          "exception": false,
          "start_time": "2024-06-27T08:18:25.942311",
          "status": "completed"
        },
        "tags": [],
        "colab": {
          "base_uri": "https://localhost:8080/"
        },
        "id": "316c097e",
        "outputId": "f925955e-3396-429c-ba0d-fb7eba39147a"
      },
      "outputs": [
        {
          "output_type": "stream",
          "name": "stdout",
          "text": [
            "Predicted sentiment: ['Negative']\n"
          ]
        }
      ],
      "source": [
        "predict_sentiment(\"Nvdia is a Giant Company\")"
      ]
    },
    {
      "cell_type": "code",
      "execution_count": 32,
      "id": "ae1ab701",
      "metadata": {
        "papermill": {
          "duration": 0.006035,
          "end_time": "2024-06-27T08:18:25.973673",
          "exception": false,
          "start_time": "2024-06-27T08:18:25.967638",
          "status": "completed"
        },
        "tags": [],
        "id": "ae1ab701"
      },
      "outputs": [],
      "source": []
    }
  ],
  "metadata": {
    "kaggle": {
      "accelerator": "none",
      "dataSources": [
        {
          "datasetId": 1520310,
          "sourceId": 2510329,
          "sourceType": "datasetVersion"
        }
      ],
      "dockerImageVersionId": 30732,
      "isGpuEnabled": false,
      "isInternetEnabled": true,
      "language": "python",
      "sourceType": "notebook"
    },
    "kernelspec": {
      "display_name": "Python 3",
      "language": "python",
      "name": "python3"
    },
    "language_info": {
      "codemirror_mode": {
        "name": "ipython",
        "version": 3
      },
      "file_extension": ".py",
      "mimetype": "text/x-python",
      "name": "python",
      "nbconvert_exporter": "python",
      "pygments_lexer": "ipython3",
      "version": "3.10.13"
    },
    "papermill": {
      "default_parameters": {},
      "duration": 44.924244,
      "end_time": "2024-06-27T08:18:26.702416",
      "environment_variables": {},
      "exception": null,
      "input_path": "__notebook__.ipynb",
      "output_path": "__notebook__.ipynb",
      "parameters": {},
      "start_time": "2024-06-27T08:17:41.778172",
      "version": "2.5.0"
    },
    "colab": {
      "provenance": []
    }
  },
  "nbformat": 4,
  "nbformat_minor": 5
}